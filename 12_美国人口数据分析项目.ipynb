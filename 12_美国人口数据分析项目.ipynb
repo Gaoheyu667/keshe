{
 "cells": [
  {
   "cell_type": "markdown",
   "metadata": {
    "collapsed": true
   },
   "source": [
    "###  美国各州人口数据分析"
   ]
  },
  {
   "cell_type": "markdown",
   "metadata": {
    "collapsed": true
   },
   "source": [
    "首先导入文件，并查看数据样本"
   ]
  },
  {
   "cell_type": "code",
   "execution_count": 6,
   "metadata": {},
   "outputs": [],
   "source": [
    "import numpy as np\n",
    "import pandas as pd\n",
    "import matplotlib.pyplot as plt\n",
    "from matplotlib import rcParams\n",
    "rcParams['font.sans-serif'] = ['SimHei']\n",
    "rcParams['axes.unicode_minus'] = False"
   ]
  },
  {
   "cell_type": "markdown",
   "metadata": {},
   "source": [
    "#### 加载数据\n",
    "- state-abbrevs.csv\n",
    "- state-areas.csv\n",
    "- state-population.csv"
   ]
  },
  {
   "cell_type": "code",
   "execution_count": 7,
   "metadata": {},
   "outputs": [],
   "source": [
    "abbrevs = pd.read_csv('data/12_美国人口数据分析项目/state-abbrevs.csv')\n",
    "areas = pd.read_csv('data/12_美国人口数据分析项目/state-areas.csv')\n",
    "population = pd.read_csv('data/12_美国人口数据分析项目/state-population.csv')"
   ]
  },
  {
   "cell_type": "markdown",
   "metadata": {
    "collapsed": true
   },
   "source": [
    "#### 合并population与abbrevs两个DataFrame\n",
    "- 分别依据state/region列和abbreviation列来合并。\n",
    "- 为了保留所有信息，使用外合并。merge()"
   ]
  },
  {
   "cell_type": "code",
   "execution_count": 10,
   "metadata": {},
   "outputs": [],
   "source": [
    "merged = pd.merge(population, abbrevs, \n",
    "                 how='outer',\n",
    "                 left_on='state/region', \n",
    "                 right_on='abbreviation')\n"
   ]
  },
  {
   "cell_type": "markdown",
   "metadata": {},
   "source": [
    "#### 去除abbreviation的那一列（axis=1）"
   ]
  },
  {
   "cell_type": "code",
   "execution_count": 11,
   "metadata": {},
   "outputs": [
    {
     "name": "stdout",
     "output_type": "stream",
     "text": [
      "已成功去除abbreviation列，剩余列名: ['state/region', 'ages', 'year', 'population', 'state']\n"
     ]
    }
   ],
   "source": [
    "merged = merged.drop('abbreviation', axis=1)  # 这就是去除abbreviation列的代码\n",
    "print(\"已成功去除abbreviation列，剩余列名:\", merged.columns.tolist())"
   ]
  },
  {
   "cell_type": "markdown",
   "metadata": {
    "collapsed": true
   },
   "source": [
    "#### 查看存在缺失数据的列。\n",
    "- 使用.isnull().any()"
   ]
  },
  {
   "cell_type": "code",
   "execution_count": 15,
   "metadata": {},
   "outputs": [
    {
     "name": "stdout",
     "output_type": "stream",
     "text": [
      "\n",
      "存在缺失数据的列:\n",
      "- population: 有缺失值\n",
      "- state: 有缺失值\n"
     ]
    }
   ],
   "source": [
    "print(\"\\n存在缺失数据的列:\")\n",
    "for col in missing_cols[missing_cols].index:\n",
    "    print(f\"- {col}: 有缺失值\")"
   ]
  },
  {
   "cell_type": "markdown",
   "metadata": {
    "collapsed": true
   },
   "source": [
    "#### 查看缺失数据\n",
    "- 根据数据是否缺失情况显示数据，如果缺失为True，那么显示"
   ]
  },
  {
   "cell_type": "code",
   "execution_count": 13,
   "metadata": {},
   "outputs": [
    {
     "name": "stdout",
     "output_type": "stream",
     "text": [
      "缺失数据检查:\n",
      "state/region    False\n",
      "ages            False\n",
      "year            False\n",
      "population       True\n",
      "state            True\n",
      "dtype: bool\n"
     ]
    }
   ],
   "source": [
    "print(\"缺失数据检查:\")\n",
    "print(merged.isnull().any())"
   ]
  },
  {
   "cell_type": "markdown",
   "metadata": {},
   "source": [
    "#### 找到有哪些state/region使得state的值为NaN\n",
    "- 使用unique()查看非重复值"
   ]
  },
  {
   "cell_type": "code",
   "execution_count": 17,
   "metadata": {},
   "outputs": [
    {
     "name": "stdout",
     "output_type": "stream",
     "text": [
      "所有state为NaN的记录:\n",
      "     state/region state\n",
      "1872           PR   NaN\n",
      "1873           PR   NaN\n",
      "1874           PR   NaN\n",
      "1875           PR   NaN\n",
      "1876           PR   NaN\n",
      "...           ...   ...\n",
      "2203          USA   NaN\n",
      "2204          USA   NaN\n",
      "2205          USA   NaN\n",
      "2206          USA   NaN\n",
      "2207          USA   NaN\n",
      "\n",
      "[96 rows x 2 columns]\n",
      "\n",
      "这些记录中state/column的唯一值:\n",
      "['PR' 'USA']\n"
     ]
    }
   ],
   "source": [
    "\n",
    "# 首先找出state为NaN的所有行\n",
    "nan_rows = merged[merged['state'].isnull()]\n",
    "print(\"所有state为NaN的记录:\")\n",
    "print(nan_rows[['state/region', 'state']])\n",
    "\n",
    "# 然后提取state/region列的唯一值\n",
    "unique_regions = nan_rows['state/region'].unique()\n",
    "print(\"\\n这些记录中state/column的唯一值:\")\n",
    "print(unique_regions)"
   ]
  },
  {
   "cell_type": "markdown",
   "metadata": {},
   "source": [
    "#### 填充state这一列的所有NaN\n",
    "- 找到的这些state/region的state项补上正确的值\n",
    "\n",
    "> PR  => Puerto Rico \n",
    ">\n",
    "> USA => United State"
   ]
  },
  {
   "cell_type": "code",
   "execution_count": 18,
   "metadata": {
    "scrolled": false
   },
   "outputs": [
    {
     "name": "stdout",
     "output_type": "stream",
     "text": [
      "\n",
      "步骤：填充state列的NaN值\n",
      "填充前state列的缺失值数量: 96\n",
      "\n",
      "处理特殊值:\n",
      "- 处理PR: 将48条记录的state设置为Puerto Rico\n",
      "- 处理USA: 将48条记录的state设置为United States\n",
      "\n",
      "填充后检查:\n",
      "state列仍有缺失值数量: 0\n",
      "\n",
      "PR记录处理结果示例:\n",
      "     state/region        state\n",
      "1872           PR  Puerto Rico\n",
      "1873           PR  Puerto Rico\n",
      "1874           PR  Puerto Rico\n",
      "1875           PR  Puerto Rico\n",
      "1876           PR  Puerto Rico\n",
      "\n",
      "USA记录处理结果示例:\n",
      "     state/region          state\n",
      "2160          USA  United States\n",
      "2161          USA  United States\n",
      "2162          USA  United States\n",
      "2163          USA  United States\n",
      "2164          USA  United States\n",
      "\n",
      "所有state列的缺失值已成功处理\n"
     ]
    }
   ],
   "source": [
    "# 填充state列的NaN值\n",
    "print(\"\\n步骤：填充state列的NaN值\")\n",
    "\n",
    "# 1. 首先确认当前state列的缺失情况\n",
    "print(\"填充前state列的缺失值数量:\", merged['state'].isnull().sum())\n",
    "\n",
    "# 2. 特殊值处理\n",
    "print(\"\\n处理特殊值:\")\n",
    "# PR => Puerto Rico\n",
    "pr_mask = merged['state/region'] == 'PR'\n",
    "merged.loc[pr_mask, 'state'] = 'Puerto Rico'\n",
    "print(f\"- 处理PR: 将{sum(pr_mask)}条记录的state设置为Puerto Rico\")\n",
    "\n",
    "# USA => United States\n",
    "usa_mask = merged['state/region'] == 'USA'\n",
    "merged.loc[usa_mask, 'state'] = 'United States'\n",
    "print(f\"- 处理USA: 将{sum(usa_mask)}条记录的state设置为United States\")\n",
    "\n",
    "# 3. 验证填充结果\n",
    "print(\"\\n填充后检查:\")\n",
    "print(\"state列仍有缺失值数量:\", merged['state'].isnull().sum())\n",
    "print(\"\\nPR记录处理结果示例:\")\n",
    "print(merged[pr_mask][['state/region', 'state']].head())\n",
    "print(\"\\nUSA记录处理结果示例:\")\n",
    "print(merged[usa_mask][['state/region', 'state']].head())\n",
    "\n",
    "# 4. 检查是否还有其他需要处理的缺失值\n",
    "other_nan = merged['state'].isnull()\n",
    "if other_nan.any():\n",
    "    print(\"\\n警告: 发现其他需要处理的缺失值，对应的state/region:\")\n",
    "    print(merged[other_nan]['state/region'].unique())\n",
    "else:\n",
    "    print(\"\\n所有state列的缺失值已成功处理\")"
   ]
  },
  {
   "cell_type": "markdown",
   "metadata": {},
   "source": [
    "#### 合并各州面积数据areas，使用左合并。"
   ]
  },
  {
   "cell_type": "code",
   "execution_count": null,
   "metadata": {
    "scrolled": false
   },
   "outputs": [],
   "source": []
  },
  {
   "cell_type": "markdown",
   "metadata": {},
   "source": [
    "#### 继续寻找存在缺失数据的列"
   ]
  },
  {
   "cell_type": "code",
   "execution_count": 19,
   "metadata": {},
   "outputs": [
    {
     "name": "stdout",
     "output_type": "stream",
     "text": [
      "\n",
      "步骤：合并面积数据(左合并)\n",
      "\n",
      "面积数据预览:\n",
      "        state  area (sq. mi)\n",
      "0     Alabama          52423\n",
      "1      Alaska         656425\n",
      "2     Arizona         114006\n",
      "3    Arkansas          53182\n",
      "4  California         163707\n",
      "\n",
      "面积数据形状: (52, 2)\n",
      "\n",
      "合并后数据形状: (2544, 6)\n",
      "\n",
      "合并后列名: ['state/region', 'ages', 'year', 'population', 'state', 'area (sq. mi)']\n",
      "\n",
      "合并后面积数据缺失情况:\n",
      "area (sq. mi)\n",
      "False    2496\n",
      "True       48\n",
      "Name: count, dtype: int64\n",
      "\n",
      "以下州的面积数据缺失:\n",
      "['United States']\n",
      "\n",
      "合并后数据示例:\n",
      "  state/region     ages  year  population   state  area (sq. mi)\n",
      "0           AK    total  1990    553290.0  Alaska       656425.0\n",
      "1           AK  under18  1990    177502.0  Alaska       656425.0\n",
      "2           AK    total  1992    588736.0  Alaska       656425.0\n",
      "3           AK  under18  1991    182180.0  Alaska       656425.0\n",
      "4           AK  under18  1992    184878.0  Alaska       656425.0\n"
     ]
    }
   ],
   "source": [
    "# 合并各州面积数据areas（左合并）\n",
    "print(\"\\n步骤：合并面积数据(左合并)\")\n",
    "\n",
    "# 1. 首先查看areas数据\n",
    "print(\"\\n面积数据预览:\")\n",
    "print(areas.head())\n",
    "print(\"\\n面积数据形状:\", areas.shape)\n",
    "\n",
    "# 2. 执行左合并\n",
    "final = pd.merge(merged, areas, \n",
    "                how='left',  # 关键参数：左合并\n",
    "                on='state')  # 根据state列合并\n",
    "\n",
    "# 3. 验证合并结果\n",
    "print(\"\\n合并后数据形状:\", final.shape)\n",
    "print(\"\\n合并后列名:\", final.columns.tolist())\n",
    "print(\"\\n合并后面积数据缺失情况:\")\n",
    "print(final['area (sq. mi)'].isnull().value_counts())\n",
    "\n",
    "# 4. 检查哪些州的面积数据缺失\n",
    "missing_area = final[final['area (sq. mi)'].isnull()]\n",
    "if not missing_area.empty:\n",
    "    print(\"\\n以下州的面积数据缺失:\")\n",
    "    print(missing_area['state'].unique())\n",
    "else:\n",
    "    print(\"\\n所有州都有面积数据\")\n",
    "\n",
    "# 5. 合并后数据示例\n",
    "print(\"\\n合并后数据示例:\")\n",
    "print(final.head())"
   ]
  },
  {
   "cell_type": "markdown",
   "metadata": {},
   "source": [
    "#### 我们会发现area(sq.mi)这一列有缺失数据，为了找出是哪一行，我们需要找出是哪个state没有数据"
   ]
  },
  {
   "cell_type": "code",
   "execution_count": null,
   "metadata": {},
   "outputs": [
    {
     "name": "stdout",
     "output_type": "stream",
     "text": [
      "\n",
      "步骤：找出面积数据缺失的州\n",
      "以下州的面积数据缺失:\n",
      "- United States\n",
      "\n",
      "共有1个州的面积数据缺失\n",
      "共影响48条记录\n",
      "\n",
      "缺失面积数据的记录示例:\n",
      "              state state/region  year     ages\n",
      "2160  United States          USA  1990  under18\n",
      "2161  United States          USA  1990    total\n",
      "2162  United States          USA  1991    total\n",
      "2163  United States          USA  1991  under18\n",
      "2164  United States          USA  1992  under18\n"
     ]
    },
    {
     "data": {
      "image/png": "[encoded data removed]",
      "text/plain": [
       "<Figure size 640x480 with 1 Axes>"
      ]
     },
     "metadata": {},
     "output_type": "display_data"
    }
   ],
   "source": [
    "# 找出area(sq.mi)列缺失数据对应的state\n",
    "print(\"\\n步骤：找出面积数据缺失的州\")\n",
    "\n",
    "# 1. 找出area列有缺失值的行\n",
    "missing_area = final[final['area (sq. mi)'].isnull()]\n",
    "\n",
    "# 2. 获取这些行对应的唯一state值\n",
    "states_with_missing_area = missing_area['state'].unique()\n",
    "\n",
    "# 3. 打印结果\n",
    "print(\"以下州的面积数据缺失:\")\n",
    "for state in states_with_missing_area:\n",
    "    print(f\"- {state}\")\n",
    "\n",
    "# 4. 统计缺失数量\n",
    "print(f\"\\n共有{len(states_with_missing_area)}个州的面积数据缺失\")\n",
    "print(f\"共影响{len(missing_area)}条记录\")\n",
    "\n",
    "# 5. 查看缺失记录的详细信息\n",
    "print(\"\\n缺失面积数据的记录示例:\")\n",
    "print(missing_area[['state', 'state/region', 'year', 'ages']].head())\n",
    "\n",
    "# 6. 可视化缺失情况\n",
    "import matplotlib.pyplot as plt\n",
    "missing_area['state'].value_counts().plot(kind='bar')\n",
    "plt.title('各州面积数据缺失记录数')\n",
    "plt.xlabel('州名')\n",
    "plt.ylabel('缺失记录数')\n",
    "plt.xticks(rotation=45)\n",
    "plt.show()"
   ]
  },
  {
   "cell_type": "markdown",
   "metadata": {},
   "source": [
    "#### 去除含有缺失数据的行"
   ]
  },
  {
   "cell_type": "code",
   "execution_count": 21,
   "metadata": {},
   "outputs": [
    {
     "name": "stdout",
     "output_type": "stream",
     "text": [
      "\n",
      "步骤：去除含有缺失数据的行\n",
      "处理前缺失值统计:\n",
      "state/region      0\n",
      "ages              0\n",
      "year              0\n",
      "population       20\n",
      "state             0\n",
      "area (sq. mi)    48\n",
      "dtype: int64\n",
      "\n",
      "已去除68行缺失数据\n",
      "处理后数据形状: (2476, 6)\n",
      "\n",
      "处理后缺失值统计:\n",
      "state/region     0\n",
      "ages             0\n",
      "year             0\n",
      "population       0\n",
      "state            0\n",
      "area (sq. mi)    0\n",
      "dtype: int64\n",
      "\n",
      "缺失数据处理完成，数据已更新\n"
     ]
    }
   ],
   "source": [
    "# 去除含有缺失数据的行\n",
    "print(\"\\n步骤：去除含有缺失数据的行\")\n",
    "\n",
    "# 1. 首先查看当前数据缺失情况\n",
    "print(\"处理前缺失值统计:\")\n",
    "print(final.isnull().sum())\n",
    "\n",
    "# 2. 记录处理前行数\n",
    "original_rows = final.shape[0]\n",
    "\n",
    "# 3. 执行去除缺失值操作\n",
    "final_clean = final.dropna()\n",
    "\n",
    "# 4. 记录处理后行数\n",
    "cleaned_rows = final_clean.shape[0]\n",
    "\n",
    "# 5. 打印处理结果\n",
    "print(f\"\\n已去除{original_rows - cleaned_rows}行缺失数据\")\n",
    "print(\"处理后数据形状:\", final_clean.shape)\n",
    "print(\"\\n处理后缺失值统计:\")\n",
    "print(final_clean.isnull().sum())\n",
    "# 6. 保存处理后的数据\n",
    "final = final_clean.copy()\n",
    "print(\"\\n缺失数据处理完成，数据已更新\")"
   ]
  },
  {
   "cell_type": "markdown",
   "metadata": {},
   "source": [
    "#### 再查看数据是否缺失"
   ]
  },
  {
   "cell_type": "code",
   "execution_count": 22,
   "metadata": {},
   "outputs": [
    {
     "name": "stdout",
     "output_type": "stream",
     "text": [
      "\n",
      "步骤：验证数据缺失情况\n",
      "\n",
      "各列缺失值数量:\n",
      "state/region     0\n",
      "ages             0\n",
      "year             0\n",
      "population       0\n",
      "state            0\n",
      "area (sq. mi)    0\n",
      "dtype: int64\n",
      "\n",
      "数据清洗完成，无缺失值\n",
      "\n",
      "数据完整性报告:\n",
      "总单元格数: 14856\n",
      "缺失单元格数: 0\n",
      "数据完整率: 100.00%\n"
     ]
    },
    {
     "data": {
      "image/png": "[encoded data removed]",
      "text/plain": [
       "<Figure size 1000x400 with 1 Axes>"
      ]
     },
     "metadata": {},
     "output_type": "display_data"
    }
   ],
   "source": [
    "# 再次检查数据缺失情况\n",
    "print(\"\\n步骤：验证数据缺失情况\")\n",
    "\n",
    "# 1. 检查各列缺失值\n",
    "missing_check = final.isnull().sum()\n",
    "print(\"\\n各列缺失值数量:\")\n",
    "print(missing_check)\n",
    "\n",
    "# 2. 检查是否存在任何缺失值\n",
    "if missing_check.sum() == 0:\n",
    "    print(\"\\n数据清洗完成，无缺失值\")\n",
    "else:\n",
    "    print(\"\\n警告：数据中仍存在缺失值\")\n",
    "    print(\"存在缺失值的列:\")\n",
    "    print(missing_check[missing_check > 0])\n",
    "    \n",
    "    # 3. 详细查看缺失数据（可选）\n",
    "    print(\"\\n缺失数据详情:\")\n",
    "    missing_data = final[final.isnull().any(axis=1)]\n",
    "    print(missing_data.head())\n",
    "\n",
    "# 4. 数据完整性报告\n",
    "total_cells = final.size\n",
    "missing_cells = missing_check.sum()\n",
    "print(f\"\\n数据完整性报告:\")\n",
    "print(f\"总单元格数: {total_cells}\")\n",
    "print(f\"缺失单元格数: {missing_cells}\")\n",
    "print(f\"数据完整率: {(1 - missing_cells/total_cells)*100:.2f}%\")\n",
    "\n",
    "# 5. 可视化缺失情况（可选）\n",
    "import matplotlib.pyplot as plt\n",
    "plt.figure(figsize=(10,4))\n",
    "missing_check.plot(kind='bar')\n",
    "plt.title('各列缺失值数量')\n",
    "plt.ylabel('缺失值数量')\n",
    "plt.xticks(rotation=45)\n",
    "plt.show()"
   ]
  },
  {
   "cell_type": "markdown",
   "metadata": {},
   "source": [
    "#### 找出2010年的全民人口数据\n",
    "- df.query(查询语句)"
   ]
  },
  {
   "cell_type": "code",
   "execution_count": 25,
   "metadata": {
    "scrolled": false
   },
   "outputs": [
    {
     "name": "stdout",
     "output_type": "stream",
     "text": [
      "\n",
      "步骤：筛选2010年全民人口数据\n",
      "筛选到52条2010年全民人口数据\n",
      "\n",
      "数据预览:\n",
      "    state/region   ages  year  population       state  area (sq. mi)\n",
      "43            AK  total  2010    713868.0      Alaska       656425.0\n",
      "51            AL  total  2010   4785570.0     Alabama        52423.0\n",
      "141           AR  total  2010   2922280.0    Arkansas        53182.0\n",
      "149           AZ  total  2010   6408790.0     Arizona       114006.0\n",
      "197           CA  total  2010  37333601.0  California       163707.0\n",
      "\n",
      "包含的年份: [2010]\n",
      "包含的年龄范围: ['total']\n",
      "\n",
      "2010年人口数据统计摘要:\n",
      "count    5.200000e+01\n",
      "mean     6.020144e+06\n",
      "std      6.779836e+06\n",
      "min      5.642220e+05\n",
      "25%      1.765058e+06\n",
      "50%      4.092453e+06\n",
      "75%      6.608011e+06\n",
      "max      3.733360e+07\n",
      "Name: population, dtype: float64\n"
     ]
    }
   ],
   "source": [
    "# 找出2010年的全民人口数据\n",
    "print(\"\\n步骤：筛选2010年全民人口数据\")\n",
    "\n",
    "# 1. 使用query方法筛选数据\n",
    "pop_2010 = final.query(\"year == 2010 & ages == 'total'\")\n",
    "\n",
    "# 2. 验证筛选结果\n",
    "print(f\"筛选到{len(pop_2010)}条2010年全民人口数据\")\n",
    "print(\"\\n数据预览:\")\n",
    "print(pop_2010.head())\n",
    "\n",
    "# 3. 检查年份和年龄范围\n",
    "print(\"\\n包含的年份:\", pop_2010['year'].unique())\n",
    "print(\"包含的年龄范围:\", pop_2010['ages'].unique())\n",
    "\n",
    "# 4. 数据统计信息\n",
    "print(\"\\n2010年人口数据统计摘要:\")\n",
    "print(pop_2010['population'].describe())\n"
   ]
  },
  {
   "cell_type": "markdown",
   "metadata": {},
   "source": [
    "#### 以state列作为新的行索引\n",
    "- 使用set_index"
   ]
  },
  {
   "cell_type": "code",
   "execution_count": 27,
   "metadata": {},
   "outputs": [
    {
     "name": "stdout",
     "output_type": "stream",
     "text": [
      "\n",
      "步骤：设置state列为行索引\n",
      "当前索引: 默认整数索引\n",
      "state列示例值: ['Alaska', 'Alabama', 'Arkansas', 'Arizona', 'California']\n",
      "\n",
      "设置索引后结果:\n",
      "新索引: state\n",
      "前5行索引值: ['Alaska', 'Alabama', 'Arkansas', 'Arizona', 'California']\n",
      "\n",
      "数据预览:\n",
      "           state/region   ages  year  population  area (sq. mi)\n",
      "state                                                          \n",
      "Alaska               AK  total  2010    713868.0       656425.0\n",
      "Alabama              AL  total  2010   4785570.0        52423.0\n",
      "Arkansas             AR  total  2010   2922280.0        53182.0\n",
      "Arizona              AZ  total  2010   6408790.0       114006.0\n",
      "California           CA  total  2010  37333601.0       163707.0\n",
      "\n",
      "列名变化(应不再包含state列):\n",
      "当前列名: ['state/region', 'ages', 'year', 'population', 'area (sq. mi)']\n",
      "\n",
      "各州记录统计:\n",
      "state\n",
      "Alaska           1\n",
      "Alabama          1\n",
      "North Dakota     1\n",
      "Nebraska         1\n",
      "New Hampshire    1\n",
      "Name: count, dtype: int64\n"
     ]
    }
   ],
   "source": [
    "# 将state列设为行索引\n",
    "print(\"\\n步骤：设置state列为行索引\")\n",
    "\n",
    "# 1. 检查当前索引和state列\n",
    "print(\"当前索引:\", pop_2010.index.name or \"默认整数索引\")\n",
    "print(\"state列示例值:\", pop_2010['state'].head().tolist())\n",
    "\n",
    "# 2. 执行set_index操作\n",
    "pop_2010_indexed = pop_2010.set_index('state')\n",
    "\n",
    "# 3. 验证索引变更\n",
    "print(\"\\n设置索引后结果:\")\n",
    "print(\"新索引:\", pop_2010_indexed.index.name)\n",
    "print(\"前5行索引值:\", pop_2010_indexed.index[:5].tolist())\n",
    "print(\"\\n数据预览:\")\n",
    "print(pop_2010_indexed.head())\n",
    "\n",
    "# 4. 检查列变化\n",
    "print(\"\\n列名变化(应不再包含state列):\")\n",
    "print(\"当前列名:\", pop_2010_indexed.columns.tolist())\n",
    "\n",
    "# 5. 索引操作后的数据统计\n",
    "print(\"\\n各州记录统计:\")\n",
    "print(pop_2010_indexed.index.value_counts().head())"
   ]
  },
  {
   "cell_type": "markdown",
   "metadata": {},
   "source": [
    "#### 计算人口密度density"
   ]
  },
  {
   "cell_type": "code",
   "execution_count": 28,
   "metadata": {},
   "outputs": [
    {
     "name": "stdout",
     "output_type": "stream",
     "text": [
      "\n",
      "步骤：计算人口密度(population/area)\n",
      "人口密度计算完成，新增density列\n",
      "\n",
      "密度统计摘要:\n",
      "count      52.000000\n",
      "mean      351.531358\n",
      "std      1231.673377\n",
      "min         1.087509\n",
      "25%        46.120680\n",
      "50%        92.637629\n",
      "75%       223.278439\n",
      "max      8898.897059\n",
      "Name: density, dtype: float64\n",
      "\n",
      "最高密度前5州:\n",
      "state\n",
      "District of Columbia    8898.897059\n",
      "Puerto Rico             1058.665149\n",
      "New Jersey              1009.253268\n",
      "Rhode Island             681.339159\n",
      "Connecticut              645.600649\n",
      "Name: density, dtype: float64\n"
     ]
    },
    {
     "data": {
      "image/png": "[encoded data removed]",
      "text/plain": [
       "<Figure size 1000x600 with 1 Axes>"
      ]
     },
     "metadata": {},
     "output_type": "display_data"
    }
   ],
   "source": [
    "# 计算人口密度\n",
    "print(\"\\n步骤：计算人口密度(population/area)\")\n",
    "\n",
    "# 1. 检查所需列是否存在\n",
    "required_cols = ['population', 'area (sq. mi)']\n",
    "if all(col in pop_2010_indexed.columns for col in required_cols):\n",
    "    # 2. 计算人口密度\n",
    "    pop_2010_indexed['density'] = pop_2010_indexed['population'] / pop_2010_indexed['area (sq. mi)']\n",
    "    \n",
    "    # 3. 验证计算结果\n",
    "    print(\"人口密度计算完成，新增density列\")\n",
    "    print(\"\\n密度统计摘要:\")\n",
    "    print(pop_2010_indexed['density'].describe())\n",
    "    \n",
    "    # 4. 检查极端值\n",
    "    print(\"\\n最高密度前5州:\")\n",
    "    print(pop_2010_indexed['density'].sort_values(ascending=False).head())\n",
    "    \n",
    "    # 5. 密度分布可视化\n",
    "    import matplotlib.pyplot as plt\n",
    "    plt.figure(figsize=(10,6))\n",
    "    pop_2010_indexed['density'].hist(bins=50)\n",
    "    plt.title('各州人口密度分布')\n",
    "    plt.xlabel('人口密度(人/平方英里)')\n",
    "    plt.ylabel('州数量')\n",
    "    plt.show()\n",
    "else:\n",
    "    missing_cols = [col for col in required_cols if col not in pop_2010_indexed.columns]\n",
    "    print(f\"错误：缺少必要列{missing_cols}，无法计算密度\")"
   ]
  },
  {
   "cell_type": "markdown",
   "metadata": {},
   "source": [
    "#### 排序，并找出人口密度最高的五个州sort_values()"
   ]
  },
  {
   "cell_type": "code",
   "execution_count": 29,
   "metadata": {},
   "outputs": [
    {
     "name": "stdout",
     "output_type": "stream",
     "text": [
      "\n",
      "步骤：找出人口密度最高的5个州\n",
      "人口密度最高的5个州:\n",
      "排名\t州名\t\t\t人口密度(人/平方英里)\n",
      "1\tDistrict of Columbia\t8,898.90\n",
      "2\tPuerto Rico    \t1,058.67\n",
      "3\tNew Jersey     \t1,009.25\n",
      "4\tRhode Island   \t681.34\n",
      "5\tConnecticut    \t645.60\n",
      "\n",
      "详细数据:\n",
      "                      population  area (sq. mi)      density\n",
      "state                                                       \n",
      "District of Columbia    605125.0           68.0  8898.897059\n",
      "Puerto Rico            3721208.0         3515.0  1058.665149\n",
      "New Jersey             8802707.0         8722.0  1009.253268\n",
      "Rhode Island           1052669.0         1545.0   681.339159\n",
      "Connecticut            3579210.0         5544.0   645.600649\n"
     ]
    },
    {
     "data": {
      "image/png": "[encoded data removed]",
      "text/plain": [
       "<Figure size 1000x600 with 1 Axes>"
      ]
     },
     "metadata": {},
     "output_type": "display_data"
    },
    {
     "name": "stdout",
     "output_type": "stream",
     "text": [
      "\n",
      "结果已保存到top5_density_states.csv文件\n"
     ]
    }
   ],
   "source": [
    "# 找出人口密度最高的5个州\n",
    "print(\"\\n步骤：找出人口密度最高的5个州\")\n",
    "\n",
    "# 1. 按density降序排序\n",
    "top5_density = pop_2010_indexed.sort_values('density', ascending=False).head(5)\n",
    "\n",
    "# 2. 格式化输出结果\n",
    "print(\"人口密度最高的5个州:\")\n",
    "print(\"排名\\t州名\\t\\t\\t人口密度(人/平方英里)\")\n",
    "for i, (state, row) in enumerate(top5_density.iterrows(), 1):\n",
    "    print(f\"{i}\\t{state.ljust(15)}\\t{row['density']:,.2f}\")\n",
    "\n",
    "# 3. 详细数据展示\n",
    "print(\"\\n详细数据:\")\n",
    "print(top5_density[['population', 'area (sq. mi)', 'density']])\n",
    "\n",
    "# 4. 可视化展示\n",
    "import matplotlib.pyplot as plt\n",
    "plt.figure(figsize=(10,6))\n",
    "top5_density['density'].sort_values().plot(kind='barh', color='darkred')\n",
    "plt.title('人口密度最高的5个州')\n",
    "plt.xlabel('人口密度(人/平方英里)')\n",
    "plt.ylabel('州名')\n",
    "plt.tight_layout()\n",
    "plt.show()\n",
    "\n",
    "# 5. 保存结果\n",
    "top5_density.to_csv('top5_density_states.csv')\n",
    "print(\"\\n结果已保存到top5_density_states.csv文件\")"
   ]
  },
  {
   "cell_type": "markdown",
   "metadata": {},
   "source": [
    "#### 排序，找出人口密度最低的五个州"
   ]
  },
  {
   "cell_type": "code",
   "execution_count": 30,
   "metadata": {},
   "outputs": [
    {
     "name": "stdout",
     "output_type": "stream",
     "text": [
      "\n",
      "步骤：找出人口密度最低的5个州\n",
      "人口密度最低的5个州:\n",
      "排名\t州名\t\t\t人口密度(人/平方英里)\n",
      "1\tAlaska         \t1.09\n",
      "2\tWyoming        \t5.77\n",
      "3\tMontana        \t6.74\n",
      "4\tNorth Dakota   \t9.54\n",
      "5\tSouth Dakota   \t10.58\n",
      "\n",
      "详细数据:\n",
      "              population  area (sq. mi)    density\n",
      "state                                             \n",
      "Alaska          713868.0       656425.0   1.087509\n",
      "Wyoming         564222.0        97818.0   5.768079\n",
      "Montana         990527.0       147046.0   6.736171\n",
      "North Dakota    674344.0        70704.0   9.537565\n",
      "South Dakota    816211.0        77121.0  10.583512\n"
     ]
    },
    {
     "data": {
      "image/png": "[encoded data removed]",
      "text/plain": [
       "<Figure size 1000x600 with 1 Axes>"
      ]
     },
     "metadata": {},
     "output_type": "display_data"
    },
    {
     "name": "stdout",
     "output_type": "stream",
     "text": [
      "\n",
      "结果已保存到bottom5_density_states.csv文件\n",
      "\n",
      "高低密度对比:\n",
      "最高密度州: 8,898.90 (平均)\n",
      "最低密度州: 1.09 (平均)\n",
      "相差倍数: 8182.8倍\n"
     ]
    }
   ],
   "source": [
    "# 找出人口密度最低的5个州\n",
    "print(\"\\n步骤：找出人口密度最低的5个州\")\n",
    "\n",
    "# 1. 按density升序排序\n",
    "bottom5_density = pop_2010_indexed.sort_values('density').head(5)\n",
    "\n",
    "# 2. 格式化输出结果\n",
    "print(\"人口密度最低的5个州:\")\n",
    "print(\"排名\\t州名\\t\\t\\t人口密度(人/平方英里)\")\n",
    "for i, (state, row) in enumerate(bottom5_density.iterrows(), 1):\n",
    "    print(f\"{i}\\t{state.ljust(15)}\\t{row['density']:,.2f}\")\n",
    "\n",
    "# 3. 详细数据展示\n",
    "print(\"\\n详细数据:\")\n",
    "print(bottom5_density[['population', 'area (sq. mi)', 'density']])\n",
    "\n",
    "# 4. 可视化展示\n",
    "import matplotlib.pyplot as plt\n",
    "plt.figure(figsize=(10,6))\n",
    "bottom5_density['density'].sort_values(ascending=False).plot(kind='barh', color='darkgreen')\n",
    "plt.title('人口密度最低的5个州')\n",
    "plt.xlabel('人口密度(人/平方英里)')\n",
    "plt.ylabel('州名')\n",
    "plt.tight_layout()\n",
    "plt.show()\n",
    "\n",
    "# 5. 保存结果\n",
    "bottom5_density.to_csv('bottom5_density_states.csv')\n",
    "print(\"\\n结果已保存到bottom5_density_states.csv文件\")\n",
    "\n",
    "# 6. 高低密度对比分析\n",
    "print(\"\\n高低密度对比:\")\n",
    "print(f\"最高密度州: {top5_density['density'].max():,.2f} (平均)\")\n",
    "print(f\"最低密度州: {bottom5_density['density'].min():,.2f} (平均)\")\n",
    "print(f\"相差倍数: {top5_density['density'].max()/bottom5_density['density'].min():.1f}倍\")"
   ]
  }
 ],
 "metadata": {
  "anaconda-cloud": {},
  "kernelspec": {
   "display_name": "base",
   "language": "python",
   "name": "python3"
  },
  "language_info": {
   "codemirror_mode": {
    "name": "ipython",
    "version": 3
   },
   "file_extension": ".py",
   "mimetype": "text/x-python",
   "name": "python",
   "nbconvert_exporter": "python",
   "pygments_lexer": "ipython3",
   "version": "3.12.4"
  }
 },
 "nbformat": 4,
 "nbformat_minor": 1
}
