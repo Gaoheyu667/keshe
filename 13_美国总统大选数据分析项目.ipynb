{
 "cells": [
  {
   "cell_type": "markdown",
   "metadata": {},
   "source": [
    "### 美国总统大选数据分析项目"
   ]
  },
  {
   "cell_type": "markdown",
   "metadata": {},
   "source": [
    "导入包"
   ]
  },
  {
   "cell_type": "code",
   "execution_count": 3,
   "metadata": {},
   "outputs": [],
   "source": [
    "import numpy as np\n",
    "import pandas as pd\n",
    "import matplotlib.pyplot as plt"
   ]
  },
  {
   "cell_type": "markdown",
   "metadata": {},
   "source": [
    "方便大家操作，将月份和参选人以及所在政党进行定义"
   ]
  },
  {
   "cell_type": "code",
   "execution_count": 4,
   "metadata": {},
   "outputs": [],
   "source": [
    "# 月份\n",
    "months = {'JAN' : 1, 'FEB' : 2, 'MAR' : 3, 'APR' : 4, 'MAY' : 5, 'JUN' : 6,\n",
    "          'JUL' : 7, 'AUG' : 8, 'SEP' : 9, 'OCT': 10, 'NOV': 11, 'DEC' : 12}\n",
    "\n",
    "# 候选人\n",
    "of_interest = ['Obama, Barack', 'Romney, Mitt', 'Santorum, Rick', \n",
    "               'Paul, Ron', 'Gingrich, Newt']\n",
    "\n",
    "# 候选人所在党派party\n",
    "parties = {\n",
    "  'Bachmann, Michelle': 'Republican',\n",
    "  'Romney, Mitt': 'Republican',\n",
    "  'Obama, Barack': 'Democrat',\n",
    "  \"Roemer, Charles E. 'Buddy' III\": 'Reform',\n",
    "  'Pawlenty, Timothy': 'Republican',\n",
    "  'Johnson, Gary Earl': 'Libertarian',\n",
    "  'Paul, Ron': 'Republican',\n",
    "  'Santorum, Rick': 'Republican',\n",
    "  'Cain, Herman': 'Republican',\n",
    "  'Gingrich, Newt': 'Republican',\n",
    "  'McCotter, Thaddeus G': 'Republican',\n",
    "  'Huntsman, Jon': 'Republican',\n",
    "  'Perry, Rick': 'Republican'           \n",
    " }"
   ]
  },
  {
   "cell_type": "markdown",
   "metadata": {},
   "source": [
    "读取文件"
   ]
  },
  {
   "cell_type": "code",
   "execution_count": 5,
   "metadata": {},
   "outputs": [
    {
     "data": {
      "text/html": [
       "<div>\n",
       "<style scoped>\n",
       "    .dataframe tbody tr th:only-of-type {\n",
       "        vertical-align: middle;\n",
       "    }\n",
       "\n",
       "    .dataframe tbody tr th {\n",
       "        vertical-align: top;\n",
       "    }\n",
       "\n",
       "    .dataframe thead th {\n",
       "        text-align: right;\n",
       "    }\n",
       "</style>\n",
       "<table border=\"1\" class=\"dataframe\">\n",
       "  <thead>\n",
       "    <tr style=\"text-align: right;\">\n",
       "      <th></th>\n",
       "      <th>cmte_id</th>\n",
       "      <th>cand_id</th>\n",
       "      <th>cand_nm</th>\n",
       "      <th>contbr_nm</th>\n",
       "      <th>contbr_city</th>\n",
       "      <th>contbr_st</th>\n",
       "      <th>contbr_zip</th>\n",
       "      <th>contbr_employer</th>\n",
       "      <th>contbr_occupation</th>\n",
       "      <th>contb_receipt_amt</th>\n",
       "      <th>contb_receipt_dt</th>\n",
       "      <th>receipt_desc</th>\n",
       "      <th>memo_cd</th>\n",
       "      <th>memo_text</th>\n",
       "      <th>form_tp</th>\n",
       "      <th>file_num</th>\n",
       "    </tr>\n",
       "  </thead>\n",
       "  <tbody>\n",
       "    <tr>\n",
       "      <th>0</th>\n",
       "      <td>C00410118</td>\n",
       "      <td>P20002978</td>\n",
       "      <td>Bachmann, Michelle</td>\n",
       "      <td>HARVEY, WILLIAM</td>\n",
       "      <td>MOBILE</td>\n",
       "      <td>AL</td>\n",
       "      <td>366010290</td>\n",
       "      <td>RETIRED</td>\n",
       "      <td>RETIRED</td>\n",
       "      <td>250.0</td>\n",
       "      <td>20-JUN-11</td>\n",
       "      <td>NaN</td>\n",
       "      <td>NaN</td>\n",
       "      <td>NaN</td>\n",
       "      <td>SA17A</td>\n",
       "      <td>736166</td>\n",
       "    </tr>\n",
       "    <tr>\n",
       "      <th>1</th>\n",
       "      <td>C00410118</td>\n",
       "      <td>P20002978</td>\n",
       "      <td>Bachmann, Michelle</td>\n",
       "      <td>HARVEY, WILLIAM</td>\n",
       "      <td>MOBILE</td>\n",
       "      <td>AL</td>\n",
       "      <td>366010290</td>\n",
       "      <td>RETIRED</td>\n",
       "      <td>RETIRED</td>\n",
       "      <td>50.0</td>\n",
       "      <td>23-JUN-11</td>\n",
       "      <td>NaN</td>\n",
       "      <td>NaN</td>\n",
       "      <td>NaN</td>\n",
       "      <td>SA17A</td>\n",
       "      <td>736166</td>\n",
       "    </tr>\n",
       "    <tr>\n",
       "      <th>2</th>\n",
       "      <td>C00410118</td>\n",
       "      <td>P20002978</td>\n",
       "      <td>Bachmann, Michelle</td>\n",
       "      <td>SMITH, LANIER</td>\n",
       "      <td>LANETT</td>\n",
       "      <td>AL</td>\n",
       "      <td>368633403</td>\n",
       "      <td>INFORMATION REQUESTED</td>\n",
       "      <td>INFORMATION REQUESTED</td>\n",
       "      <td>250.0</td>\n",
       "      <td>05-JUL-11</td>\n",
       "      <td>NaN</td>\n",
       "      <td>NaN</td>\n",
       "      <td>NaN</td>\n",
       "      <td>SA17A</td>\n",
       "      <td>749073</td>\n",
       "    </tr>\n",
       "    <tr>\n",
       "      <th>3</th>\n",
       "      <td>C00410118</td>\n",
       "      <td>P20002978</td>\n",
       "      <td>Bachmann, Michelle</td>\n",
       "      <td>BLEVINS, DARONDA</td>\n",
       "      <td>PIGGOTT</td>\n",
       "      <td>AR</td>\n",
       "      <td>724548253</td>\n",
       "      <td>NONE</td>\n",
       "      <td>RETIRED</td>\n",
       "      <td>250.0</td>\n",
       "      <td>01-AUG-11</td>\n",
       "      <td>NaN</td>\n",
       "      <td>NaN</td>\n",
       "      <td>NaN</td>\n",
       "      <td>SA17A</td>\n",
       "      <td>749073</td>\n",
       "    </tr>\n",
       "    <tr>\n",
       "      <th>4</th>\n",
       "      <td>C00410118</td>\n",
       "      <td>P20002978</td>\n",
       "      <td>Bachmann, Michelle</td>\n",
       "      <td>WARDENBURG, HAROLD</td>\n",
       "      <td>HOT SPRINGS NATION</td>\n",
       "      <td>AR</td>\n",
       "      <td>719016467</td>\n",
       "      <td>NONE</td>\n",
       "      <td>RETIRED</td>\n",
       "      <td>300.0</td>\n",
       "      <td>20-JUN-11</td>\n",
       "      <td>NaN</td>\n",
       "      <td>NaN</td>\n",
       "      <td>NaN</td>\n",
       "      <td>SA17A</td>\n",
       "      <td>736166</td>\n",
       "    </tr>\n",
       "  </tbody>\n",
       "</table>\n",
       "</div>"
      ],
      "text/plain": [
       "     cmte_id    cand_id             cand_nm           contbr_nm  \\\n",
       "0  C00410118  P20002978  Bachmann, Michelle     HARVEY, WILLIAM   \n",
       "1  C00410118  P20002978  Bachmann, Michelle     HARVEY, WILLIAM   \n",
       "2  C00410118  P20002978  Bachmann, Michelle       SMITH, LANIER   \n",
       "3  C00410118  P20002978  Bachmann, Michelle    BLEVINS, DARONDA   \n",
       "4  C00410118  P20002978  Bachmann, Michelle  WARDENBURG, HAROLD   \n",
       "\n",
       "          contbr_city contbr_st contbr_zip        contbr_employer  \\\n",
       "0              MOBILE        AL  366010290                RETIRED   \n",
       "1              MOBILE        AL  366010290                RETIRED   \n",
       "2              LANETT        AL  368633403  INFORMATION REQUESTED   \n",
       "3             PIGGOTT        AR  724548253                   NONE   \n",
       "4  HOT SPRINGS NATION        AR  719016467                   NONE   \n",
       "\n",
       "       contbr_occupation  contb_receipt_amt contb_receipt_dt receipt_desc  \\\n",
       "0                RETIRED              250.0        20-JUN-11          NaN   \n",
       "1                RETIRED               50.0        23-JUN-11          NaN   \n",
       "2  INFORMATION REQUESTED              250.0        05-JUL-11          NaN   \n",
       "3                RETIRED              250.0        01-AUG-11          NaN   \n",
       "4                RETIRED              300.0        20-JUN-11          NaN   \n",
       "\n",
       "  memo_cd memo_text form_tp  file_num  \n",
       "0     NaN       NaN   SA17A    736166  \n",
       "1     NaN       NaN   SA17A    736166  \n",
       "2     NaN       NaN   SA17A    749073  \n",
       "3     NaN       NaN   SA17A    749073  \n",
       "4     NaN       NaN   SA17A    736166  "
      ]
     },
     "execution_count": 5,
     "metadata": {},
     "output_type": "execute_result"
    }
   ],
   "source": [
    "# 因为数据列有混合类型，读取的时候Pandas默认要找到可以使所占空间最小的类型。\n",
    "# low_memory=False ： Pandas就不会去找低内存（占用空间小）的类型，直接使用较大内存的类型\n",
    "\n",
    "usa = pd.read_csv(r'data\\13_美国总统大选数据分析项目\\usa_election.csv', low_memory=False)\n",
    "usa.head()\n"
   ]
  },
  {
   "cell_type": "markdown",
   "metadata": {
    "collapsed": true
   },
   "source": [
    "查看文件样式以及基本信息"
   ]
  },
  {
   "cell_type": "code",
   "execution_count": 6,
   "metadata": {},
   "outputs": [
    {
     "name": "stdout",
     "output_type": "stream",
     "text": [
      "<class 'pandas.core.frame.DataFrame'>\n",
      "RangeIndex: 536041 entries, 0 to 536040\n",
      "Data columns (total 17 columns):\n",
      " #   Column             Non-Null Count   Dtype  \n",
      "---  ------             --------------   -----  \n",
      " 0   cmte_id            536041 non-null  object \n",
      " 1   cand_id            536041 non-null  object \n",
      " 2   cand_nm            536041 non-null  object \n",
      " 3   contbr_nm          536041 non-null  object \n",
      " 4   contbr_city        536026 non-null  object \n",
      " 5   contbr_st          536040 non-null  object \n",
      " 6   contbr_zip         535973 non-null  object \n",
      " 7   contbr_employer    525088 non-null  object \n",
      " 8   contbr_occupation  530520 non-null  object \n",
      " 9   contb_receipt_amt  536041 non-null  float64\n",
      " 10  contb_receipt_dt   536041 non-null  object \n",
      " 11  receipt_desc       8479 non-null    object \n",
      " 12  memo_cd            49718 non-null   object \n",
      " 13  memo_text          52740 non-null   object \n",
      " 14  form_tp            536041 non-null  object \n",
      " 15  file_num           536041 non-null  int64  \n",
      " 16  party              536041 non-null  object \n",
      "dtypes: float64(1), int64(1), object(15)\n",
      "memory usage: 69.5+ MB\n"
     ]
    }
   ],
   "source": [
    "usa['party'] = usa['cand_nm'].map(parties)\n",
    "usa.head()\n",
    "usa.info()\n"
   ]
  },
  {
   "cell_type": "markdown",
   "metadata": {},
   "source": [
    "【知识点】使用map函数+字典，新建一列各个候选人所在党派party"
   ]
  },
  {
   "cell_type": "markdown",
   "metadata": {},
   "source": [
    "查看单独一行，是否加上了'party'一列"
   ]
  },
  {
   "cell_type": "code",
   "execution_count": 7,
   "metadata": {},
   "outputs": [
    {
     "data": {
      "text/html": [
       "<div>\n",
       "<style scoped>\n",
       "    .dataframe tbody tr th:only-of-type {\n",
       "        vertical-align: middle;\n",
       "    }\n",
       "\n",
       "    .dataframe tbody tr th {\n",
       "        vertical-align: top;\n",
       "    }\n",
       "\n",
       "    .dataframe thead th {\n",
       "        text-align: right;\n",
       "    }\n",
       "</style>\n",
       "<table border=\"1\" class=\"dataframe\">\n",
       "  <thead>\n",
       "    <tr style=\"text-align: right;\">\n",
       "      <th></th>\n",
       "      <th>cmte_id</th>\n",
       "      <th>cand_id</th>\n",
       "      <th>cand_nm</th>\n",
       "      <th>contbr_nm</th>\n",
       "      <th>contbr_city</th>\n",
       "      <th>contbr_st</th>\n",
       "      <th>contbr_zip</th>\n",
       "      <th>contbr_employer</th>\n",
       "      <th>contbr_occupation</th>\n",
       "      <th>contb_receipt_amt</th>\n",
       "      <th>contb_receipt_dt</th>\n",
       "      <th>receipt_desc</th>\n",
       "      <th>memo_cd</th>\n",
       "      <th>memo_text</th>\n",
       "      <th>form_tp</th>\n",
       "      <th>file_num</th>\n",
       "      <th>party</th>\n",
       "    </tr>\n",
       "  </thead>\n",
       "  <tbody>\n",
       "    <tr>\n",
       "      <th>0</th>\n",
       "      <td>C00410118</td>\n",
       "      <td>P20002978</td>\n",
       "      <td>Bachmann, Michelle</td>\n",
       "      <td>HARVEY, WILLIAM</td>\n",
       "      <td>MOBILE</td>\n",
       "      <td>AL</td>\n",
       "      <td>366010290</td>\n",
       "      <td>RETIRED</td>\n",
       "      <td>RETIRED</td>\n",
       "      <td>250.0</td>\n",
       "      <td>20-JUN-11</td>\n",
       "      <td>NaN</td>\n",
       "      <td>NaN</td>\n",
       "      <td>NaN</td>\n",
       "      <td>SA17A</td>\n",
       "      <td>736166</td>\n",
       "      <td>Republican</td>\n",
       "    </tr>\n",
       "  </tbody>\n",
       "</table>\n",
       "</div>"
      ],
      "text/plain": [
       "     cmte_id    cand_id             cand_nm        contbr_nm contbr_city  \\\n",
       "0  C00410118  P20002978  Bachmann, Michelle  HARVEY, WILLIAM      MOBILE   \n",
       "\n",
       "  contbr_st contbr_zip contbr_employer contbr_occupation  contb_receipt_amt  \\\n",
       "0        AL  366010290         RETIRED           RETIRED              250.0   \n",
       "\n",
       "  contb_receipt_dt receipt_desc memo_cd memo_text form_tp  file_num  \\\n",
       "0        20-JUN-11          NaN     NaN       NaN   SA17A    736166   \n",
       "\n",
       "        party  \n",
       "0  Republican  "
      ]
     },
     "execution_count": 7,
     "metadata": {},
     "output_type": "execute_result"
    }
   ],
   "source": [
    "usa.head(1)  # 查看第一行以确认新增的party列\n"
   ]
  },
  {
   "cell_type": "markdown",
   "metadata": {},
   "source": [
    "使用np.unique()函数查看colums：party这一列中有哪些元素"
   ]
  },
  {
   "cell_type": "code",
   "execution_count": 8,
   "metadata": {},
   "outputs": [
    {
     "data": {
      "text/plain": [
       "array(['Democrat', 'Libertarian', 'Reform', 'Republican'], dtype=object)"
      ]
     },
     "execution_count": 8,
     "metadata": {},
     "output_type": "execute_result"
    }
   ],
   "source": [
    "np.unique(usa['party'])"
   ]
  },
  {
   "cell_type": "markdown",
   "metadata": {},
   "source": [
    "使用value_counts()函数，统计party列中各个元素出现次数"
   ]
  },
  {
   "cell_type": "code",
   "execution_count": 9,
   "metadata": {},
   "outputs": [
    {
     "data": {
      "text/plain": [
       "party\n",
       "Democrat       292400\n",
       "Republican     237575\n",
       "Reform           5364\n",
       "Libertarian       702\n",
       "Name: count, dtype: int64"
      ]
     },
     "execution_count": 9,
     "metadata": {},
     "output_type": "execute_result"
    }
   ],
   "source": [
    "usa['party'].value_counts()\n"
   ]
  },
  {
   "cell_type": "markdown",
   "metadata": {},
   "source": [
    "【知识点】使用groupby()函数，查看各个党派收到的政治献金总数contb_receipt_amt"
   ]
  },
  {
   "cell_type": "code",
   "execution_count": 10,
   "metadata": {},
   "outputs": [
    {
     "data": {
      "text/plain": [
       "party\n",
       "Democrat       8.105758e+07\n",
       "Libertarian    4.132769e+05\n",
       "Reform         3.390338e+05\n",
       "Republican     1.192255e+08\n",
       "Name: contb_receipt_amt, dtype: float64"
      ]
     },
     "execution_count": 10,
     "metadata": {},
     "output_type": "execute_result"
    }
   ],
   "source": [
    "usa.groupby('party')['contb_receipt_amt'].sum()\n"
   ]
  },
  {
   "cell_type": "markdown",
   "metadata": {},
   "source": [
    "查看日期格式，并将其转换为Pandas的日期格式,通过函数加map方式进行转换"
   ]
  },
  {
   "cell_type": "code",
   "execution_count": 24,
   "metadata": {},
   "outputs": [
    {
     "name": "stdout",
     "output_type": "stream",
     "text": [
      "原始日期格式：\n",
      "478480   2011-01-01\n",
      "475327   2011-01-01\n",
      "475328   2011-01-01\n",
      "478481   2011-01-03\n",
      "475329   2011-01-03\n",
      "Name: contb_receipt_dt, dtype: datetime64[ns]\n",
      "\n",
      "转换后的结果：\n",
      "       contb_receipt_dt contb_receipt_dt_converted\n",
      "478480       2011-01-01                 2011-01-01\n",
      "475327       2011-01-01                 2011-01-01\n",
      "475328       2011-01-01                 2011-01-01\n",
      "478481       2011-01-03                 2011-01-03\n",
      "475329       2011-01-03                 2011-01-03\n"
     ]
    }
   ],
   "source": [
    "# 查看原始日期格式\n",
    "print(\"原始日期格式：\")\n",
    "print(usa['contb_receipt_dt'].head())\n",
    "\n",
    "# 定义日期格式列表\n",
    "date_formats = [\n",
    "    '%d-%b-%y',  # 20-JUN-11\n",
    "    '%d/%b/%y',  # 20/JUN/11\n",
    "    '%d-%b-%Y',  # 20-JUN-2011\n",
    "    '%d/%b/%Y',  # 20-JUN/2011\n",
    "    '%m/%d/%Y',  # 06/20/2011\n",
    "    '%m-%d-%Y',  # 06-20-2011\n",
    "    '%d/%m/%Y',  # 20/06/2011\n",
    "    '%d-%m-%Y',  # 20-06-2011\n",
    "    '%Y-%m-%d',  # 2011-06-20\n",
    "    '%d %b %Y',  # 20 JUN 2011\n",
    "    '%d %b %y',  # 20 JUN 11\n",
    "    '%b %d %Y',  # JUN 20 2011\n",
    "    '%b %d, %Y',  # JUN 20, 2011\n",
    "    '%b-%d-%Y',  # JUN-20-2011\n",
    "    '%b/%d/%Y',  # JUN/20/2011\n",
    "    '%d %B %Y',  # 20 June 2011\n",
    "    '%B %d, %Y',  # June 20, 2011\n",
    "    '%B %d %Y',  # June 20 2011\n",
    "    '%d-%B-%Y',  # 20-June-2011\n",
    "    '%d/%B/%Y',  # 20-June-2011\n",
    "]\n",
    "\n",
    "# 定义转换函数\n",
    "def try_convert_date(date_str):\n",
    "    for date_format in date_formats:\n",
    "        try:\n",
    "            return pd.to_datetime(date_str, format=date_format)\n",
    "        except ValueError:\n",
    "            continue\n",
    "    return np.nan\n",
    "\n",
    "# 使用 map 和自定义函数尝试转换日期格式\n",
    "usa['contb_receipt_dt_converted'] = usa['contb_receipt_dt'].map(try_convert_date)\n",
    "\n",
    "# 查看转换后的结果\n",
    "print(\"\\n转换后的结果：\")\n",
    "print(usa[['contb_receipt_dt', 'contb_receipt_dt_converted']].head())"
   ]
  },
  {
   "cell_type": "markdown",
   "metadata": {},
   "source": [
    "查看是否转换成功"
   ]
  },
  {
   "cell_type": "code",
   "execution_count": 25,
   "metadata": {},
   "outputs": [
    {
     "name": "stdout",
     "output_type": "stream",
     "text": [
      "\n",
      "转换后的结果：\n",
      "478480   2011-01-01\n",
      "475327   2011-01-01\n",
      "475328   2011-01-01\n",
      "478481   2011-01-03\n",
      "475329   2011-01-03\n",
      "Name: contb_receipt_dt_converted, dtype: datetime64[ns]\n"
     ]
    }
   ],
   "source": [
    "# 查看是否转换成功\n",
    "print(\"\\n转换后的结果：\")\n",
    "print(usa['contb_receipt_dt_converted'].head())"
   ]
  },
  {
   "cell_type": "markdown",
   "metadata": {},
   "source": [
    "将时间转换为时间数据类型  \n",
    "根据时间进行排序"
   ]
  },
  {
   "cell_type": "code",
   "execution_count": 26,
   "metadata": {},
   "outputs": [
    {
     "name": "stdout",
     "output_type": "stream",
     "text": [
      "\n",
      "查看排序后的结果：\n",
      "          cmte_id    cand_id       cand_nm            contbr_nm contbr_city  \\\n",
      "478480  C00496067  P00003608  Cain, Herman          MAREK, JOHN    WAUKESHA   \n",
      "475327  C00496067  P00003608  Cain, Herman   STOLTENBERG, WAYNE    WESTLAKE   \n",
      "475328  C00496067  P00003608  Cain, Herman       TRIBBLE, JAMES     HOUSTON   \n",
      "478481  C00496067  P00003608  Cain, Herman        SIDNEY, SCOTT   CEDARBURG   \n",
      "475329  C00496067  P00003608  Cain, Herman  DAVIS, JEREMY S MR.     HOUSTON   \n",
      "\n",
      "       contbr_st contbr_zip                  contbr_employer  \\\n",
      "478480        WI  531899772            INFORMATION REQUESTED   \n",
      "475327        TX  762629076                  CINCO RESOURCES   \n",
      "475328        TX  770795026                             NONE   \n",
      "478481        WI  530122317                    SELF EMPLOYED   \n",
      "475329        TX  770252267  INTL PETROLEUM ASSOC OF AMERICA   \n",
      "\n",
      "            contbr_occupation  contb_receipt_amt contb_receipt_dt  \\\n",
      "478480  INFORMATION REQUESTED             2400.0       2011-01-01   \n",
      "475327                    CFO             5200.0       2011-01-01   \n",
      "475328                RETIRED             1000.0       2011-01-01   \n",
      "478481             CONTRACTOR             2400.0       2011-01-03   \n",
      "475329               INVESTOR             2400.0       2011-01-03   \n",
      "\n",
      "       receipt_desc memo_cd memo_text form_tp  file_num       party  \\\n",
      "478480          NaN     NaN       NaN   SA17A    755790  Republican   \n",
      "475327          NaN     NaN       NaN   SA17A    755790  Republican   \n",
      "475328          NaN     NaN       NaN   SA17A    755790  Republican   \n",
      "478481          NaN     NaN       NaN   SA17A    755790  Republican   \n",
      "475329          NaN     NaN       NaN   SA17A    755790  Republican   \n",
      "\n",
      "       contb_receipt_dt_converted  \n",
      "478480                 2011-01-01  \n",
      "475327                 2011-01-01  \n",
      "475328                 2011-01-01  \n",
      "478481                 2011-01-03  \n",
      "475329                 2011-01-03  \n"
     ]
    }
   ],
   "source": [
    "usa['contb_receipt_dt'] = pd.to_datetime(usa['contb_receipt_dt'], format='%b %d %Y')\n",
    "usa = usa.sort_values('contb_receipt_dt')\n",
    "print(\"\\n查看排序后的结果：\")\n",
    "print(usa.head())\n"
   ]
  },
  {
   "cell_type": "markdown",
   "metadata": {},
   "source": [
    "得到转换后的，每天各政党所收政治献金数目。  \n",
    "\n",
    "考察知识点：groupby（多个字段）"
   ]
  },
  {
   "cell_type": "code",
   "execution_count": 27,
   "metadata": {},
   "outputs": [
    {
     "name": "stdout",
     "output_type": "stream",
     "text": [
      "\n",
      "每天各政党所收政治献金数目：\n",
      "  contb_receipt_dt       party  contb_receipt_amt\n",
      "0       2011-01-01  Republican             8600.0\n",
      "1       2011-01-03  Republican             4800.0\n",
      "2       2011-01-04  Republican             5000.0\n",
      "3       2011-01-12  Republican             4150.0\n",
      "4       2011-01-13  Republican             4000.0\n"
     ]
    }
   ],
   "source": [
    "# 得到转换后的，每天各政党所收政治献金数目\n",
    "\n",
    "daily_donations = usa.groupby(['contb_receipt_dt', 'party'])['contb_receipt_amt'].sum().reset_index()\n",
    "\n",
    "# 查看结果\n",
    "\n",
    "print(\"\\n每天各政党所收政治献金数目：\")\n",
    "\n",
    "print(daily_donations.head())\n",
    "\n"
   ]
  },
  {
   "cell_type": "markdown",
   "metadata": {},
   "source": [
    "【知识点】使用unstack()将上面所得数据中的party从一级索引变成列索引,unstack('party')"
   ]
  },
  {
   "cell_type": "code",
   "execution_count": 40,
   "metadata": {},
   "outputs": [
    {
     "name": "stdout",
     "output_type": "stream",
     "text": [
      "\n",
      "unstack后的结果：\n",
      "                 contb_receipt_amt                              \n",
      "party                     Democrat Libertarian Reform Republican\n",
      "contb_receipt_dt                                                \n",
      "2011-01-01                     0.0         0.0    0.0     8600.0\n",
      "2011-01-03                     0.0         0.0    0.0     4800.0\n",
      "2011-01-04                     0.0         0.0    0.0     5000.0\n",
      "2011-01-12                     0.0         0.0    0.0     4150.0\n",
      "2011-01-13                     0.0         0.0    0.0     4000.0\n"
     ]
    }
   ],
   "source": [
    "# 使用 unstack() 将上面所得数据中的 party 从一级索引变成列索引\n",
    "daily_donations_unstacked = daily_donations.set_index(['contb_receipt_dt', 'party']).unstack('party', fill_value=0)\n",
    "\n",
    "# 查看结果\n",
    "print(\"\\nunstack后的结果：\")\n",
    "print(daily_donations_unstacked.head())"
   ]
  },
  {
   "cell_type": "markdown",
   "metadata": {},
   "source": [
    "使用上面获取的数据  \n",
    "画出各党派累计政治献金,cumsum()累加函数"
   ]
  },
  {
   "cell_type": "code",
   "execution_count": 44,
   "metadata": {},
   "outputs": [
    {
     "name": "stdout",
     "output_type": "stream",
     "text": [
      "\n",
      " 累计政治献金的结果：\n",
      "                 contb_receipt_amt                              \n",
      "party                     Democrat Libertarian Reform Republican\n",
      "contb_receipt_dt                                                \n",
      "2011-01-01                     0.0         0.0    0.0     8600.0\n",
      "2011-01-03                     0.0         0.0    0.0    13400.0\n",
      "2011-01-04                     0.0         0.0    0.0    18400.0\n",
      "2011-01-12                     0.0         0.0    0.0    22550.0\n",
      "2011-01-13                     0.0         0.0    0.0    26550.0\n"
     ]
    },
    {
     "data": {
      "image/png": "[encoded data removed]",
      "text/plain": [
       "<Figure size 1400x700 with 1 Axes>"
      ]
     },
     "metadata": {},
     "output_type": "display_data"
    },
    {
     "name": "stdout",
     "output_type": "stream",
     "text": [
      "\n",
      " 民主党在每一天的具体献金记录：\n",
      "          cmte_id    cand_id        cand_nm           contbr_nm  contbr_city  \\\n",
      "166273  C00431445  P80003338  Obama, Barack        THOMAS, JANE      CHICAGO   \n",
      "70874   C00431445  P80003338  Obama, Barack         CHOY, CHRIS  LOS ANGELES   \n",
      "166280  C00431445  P80003338  Obama, Barack  SCHWARTZ, BENJAMIN      CHICAGO   \n",
      "166283  C00431445  P80003338  Obama, Barack       THEIS, JOHN K      CHICAGO   \n",
      "166218  C00431445  P80003338  Obama, Barack   WLEKLINSKI, CAROL     EVANSTON   \n",
      "\n",
      "       contbr_st contbr_zip                    contbr_employer  \\\n",
      "166273        IL  606017923                            RETIRED   \n",
      "70874         CA      90068                  CHRIS CHOY DESIGN   \n",
      "166280        IL      60614                   ALTHEIMER & GRAY   \n",
      "166283        IL  606225001  EIMER STAHL KLEVORN & SOLBERG LLP   \n",
      "166218        IL  602022490                            RETIRED   \n",
      "\n",
      "        contbr_occupation  contb_receipt_amt contb_receipt_dt receipt_desc  \\\n",
      "166273            RETIRED              200.0       2011-04-04          NaN   \n",
      "70874            DESIGNER              100.0       2011-04-04          NaN   \n",
      "166280         CONSULTANT              250.0       2011-04-04          NaN   \n",
      "166283           ATTORNEY              250.0       2011-04-04          NaN   \n",
      "166218  PASTORAL MINISTER              250.0       2011-04-04          NaN   \n",
      "\n",
      "       memo_cd                  memo_text form_tp  file_num     party  \\\n",
      "166273       X  * OBAMA VICTORY FUND 2012    SA18    756214  Democrat   \n",
      "70874      NaN                        NaN   SA17A    756214  Democrat   \n",
      "166280       X  * OBAMA VICTORY FUND 2012    SA18    756214  Democrat   \n",
      "166283       X  * OBAMA VICTORY FUND 2012    SA18    756214  Democrat   \n",
      "166218       X  * OBAMA VICTORY FUND 2012    SA18    756214  Democrat   \n",
      "\n",
      "       contb_receipt_dt_converted  \n",
      "166273                 2011-04-04  \n",
      "70874                  2011-04-04  \n",
      "166280                 2011-04-04  \n",
      "166283                 2011-04-04  \n",
      "166218                 2011-04-04  \n",
      "\n",
      " 手动处理后的累计政治献金的结果：\n",
      "                 contb_receipt_amt                              \n",
      "party                     Democrat Libertarian Reform Republican\n",
      "contb_receipt_dt                                                \n",
      "2011-01-01                     0.0         0.0    0.0     8600.0\n",
      "2011-01-03                     0.0         0.0    0.0    13400.0\n",
      "2011-01-04                     0.0         0.0    0.0    18400.0\n",
      "2011-01-12                     0.0         0.0    0.0    22550.0\n",
      "2011-01-13                     0.0         0.0    0.0    26550.0\n"
     ]
    },
    {
     "name": "stderr",
     "output_type": "stream",
     "text": [
      "C:\\Users\\11322\\AppData\\Local\\Temp\\ipykernel_2136\\1184462159.py:28: FutureWarning: ChainedAssignmentError: behaviour will change in pandas 3.0!\n",
      "You are setting values through chained assignment. Currently this works in certain cases, but when using Copy-on-Write (which will become the default behaviour in pandas 3.0) this will never work to update the original DataFrame or Series, because the intermediate object on which we are setting values will behave as a copy.\n",
      "A typical example is when you are setting values in a column of a DataFrame, like:\n",
      "\n",
      "df[\"col\"][row_indexer] = value\n",
      "\n",
      "Use `df.loc[row_indexer, \"col\"] = values` instead, to perform the assignment in a single step and ensure this keeps updating the original `df`.\n",
      "\n",
      "See the caveats in the documentation: https://pandas.pydata.org/pandas-docs/stable/user_guide/indexing.html#returning-a-view-versus-a-copy\n",
      "\n",
      "  daily_donations_unstacked.loc['2011-01-01', 'contb_receipt_amt']['Democrat'] = 0.0\n",
      "C:\\Users\\11322\\AppData\\Local\\Temp\\ipykernel_2136\\1184462159.py:29: FutureWarning: ChainedAssignmentError: behaviour will change in pandas 3.0!\n",
      "You are setting values through chained assignment. Currently this works in certain cases, but when using Copy-on-Write (which will become the default behaviour in pandas 3.0) this will never work to update the original DataFrame or Series, because the intermediate object on which we are setting values will behave as a copy.\n",
      "A typical example is when you are setting values in a column of a DataFrame, like:\n",
      "\n",
      "df[\"col\"][row_indexer] = value\n",
      "\n",
      "Use `df.loc[row_indexer, \"col\"] = values` instead, to perform the assignment in a single step and ensure this keeps updating the original `df`.\n",
      "\n",
      "See the caveats in the documentation: https://pandas.pydata.org/pandas-docs/stable/user_guide/indexing.html#returning-a-view-versus-a-copy\n",
      "\n",
      "  daily_donations_unstacked.loc['2011-01-03', 'contb_receipt_amt']['Democrat'] = 0.0\n"
     ]
    },
    {
     "data": {
      "image/png": "[encoded data removed]",
      "text/plain": [
       "<Figure size 1400x700 with 1 Axes>"
      ]
     },
     "metadata": {},
     "output_type": "display_data"
    }
   ],
   "source": [
    "# 使用上面获取的数据  \n",
    "# 画出各党派累计政治献金,cumsum()累加函数\n",
    "cumulative_donations = daily_donations_unstacked.cumsum()\n",
    "\n",
    "# 查看累计结果\n",
    "print(\"\\n 累计政治献金的结果：\")\n",
    "print(cumulative_donations.head())\n",
    "\n",
    "# 设置中文字体\n",
    "plt.rcParams['font.sans-serif'] = ['SimHei']  # 选择合适的中文字体\n",
    "plt.rcParams['axes.unicode_minus'] = False    # 解决负号显示问题\n",
    "\n",
    "# 画出各党派累计政治献金\n",
    "cumulative_donations.plot(figsize=(14, 7), color=['blue', 'orange', 'green', 'red'])\n",
    "plt.title('各党派累计政治献金')\n",
    "plt.xlabel('日期')\n",
    "plt.ylabel('累计献金金额')\n",
    "plt.grid(True)\n",
    "plt.show()\n",
    "\n",
    "# 检查民主党在每一天的具体献金记录\n",
    "democrat_records = usa[usa['party'] == 'Democrat']\n",
    "print(\"\\n 民主党在每一天的具体献金记录：\")\n",
    "print(democrat_records.head())\n",
    "\n",
    "# 如果民主党在某些日期没有收到献金，手动将这些日期的金额设置为0\n",
    "# 假设民主党在 2011-01-01 和 2011-01-03 没有收到献金\n",
    "daily_donations_unstacked.loc['2011-01-01', 'contb_receipt_amt']['Democrat'] = 0.0\n",
    "daily_donations_unstacked.loc['2011-01-03', 'contb_receipt_amt']['Democrat'] = 0.0\n",
    "\n",
    "# 再次计算累计政治献金\n",
    "cumulative_donations = daily_donations_unstacked.cumsum()\n",
    "\n",
    "# 查看累计结果\n",
    "print(\"\\n 手动处理后的累计政治献金的结果：\")\n",
    "print(cumulative_donations.head())\n",
    "\n",
    "# 画出各党派累计政治献金\n",
    "cumulative_donations.plot(figsize=(14, 7), color=['blue', 'orange', 'green', 'red'])\n",
    "plt.title('各党派累计政治献金')\n",
    "plt.xlabel('日期')\n",
    "plt.ylabel('累计献金金额')\n",
    "plt.grid(True)\n",
    "plt.show()"
   ]
  },
  {
   "cell_type": "markdown",
   "metadata": {},
   "source": [
    "把时间作为列，党派作为行来观察,unstack('contb_receipt')"
   ]
  },
  {
   "cell_type": "code",
   "execution_count": 45,
   "metadata": {},
   "outputs": [
    {
     "name": "stdout",
     "output_type": "stream",
     "text": [
      "\n",
      " 将日期作为列，党派作为行后的结果：\n",
      "contb_receipt_dt  2011-01-01  2011-01-03  2011-01-04  2011-01-12  2011-01-13  \\\n",
      "party                                                                          \n",
      "Democrat                 0.0         0.0         0.0         0.0         0.0   \n",
      "Libertarian              0.0         0.0         0.0         0.0         0.0   \n",
      "Reform                   0.0         0.0         0.0         0.0         0.0   \n",
      "Republican            8600.0      4800.0      5000.0      4150.0      4000.0   \n",
      "\n",
      "contb_receipt_dt  2011-01-14  2011-01-15  2011-01-16  2011-01-17  2011-01-18  \\\n",
      "party                                                                          \n",
      "Democrat                 0.0         0.0         0.0         0.0         0.0   \n",
      "Libertarian              0.0         0.0         0.0         0.0         0.0   \n",
      "Reform                   0.0         0.0         0.0         0.0         0.0   \n",
      "Republican            6000.0       500.0       750.0       500.0      4800.0   \n",
      "\n",
      "contb_receipt_dt  ...  2012-01-22  2012-01-23  2012-01-24  2012-01-25  \\\n",
      "party             ...                                                   \n",
      "Democrat          ...    67194.23   337307.07   458909.23   438949.32   \n",
      "Libertarian       ...        0.00        0.00        0.00        0.00   \n",
      "Reform            ...      450.00      225.00      500.00      282.00   \n",
      "Republican        ...   507168.71   645477.15   462233.66   416931.39   \n",
      "\n",
      "contb_receipt_dt  2012-01-26  2012-01-27  2012-01-28  2012-01-29  2012-01-30  \\\n",
      "party                                                                          \n",
      "Democrat           450268.94   305785.47   235492.85    93177.00   435921.72   \n",
      "Libertarian             0.00        0.00        0.00        0.00        0.00   \n",
      "Reform                 25.00     3176.37      175.00      200.00      130.00   \n",
      "Republican         256406.86   368441.82    82775.80    75220.02   255204.80   \n",
      "\n",
      "contb_receipt_dt  2012-01-31  \n",
      "party                         \n",
      "Democrat          1418410.31  \n",
      "Libertarian             0.00  \n",
      "Reform                150.00  \n",
      "Republican         869890.41  \n",
      "\n",
      "[4 rows x 376 columns]\n"
     ]
    }
   ],
   "source": [
    "# 使用 unstack('contb_receipt_dt') 将日期从一级索引变成列索引，党派作为行\n",
    "daily_donations_pivot = daily_donations.set_index(['contb_receipt_dt', 'party'])['contb_receipt_amt'].unstack('contb_receipt_dt', fill_value=0)\n",
    "\n",
    "# 查看结果\n",
    "print(\"\\n 将日期作为列，党派作为行后的结果：\")\n",
    "print(daily_donations_pivot.head())"
   ]
  },
  {
   "cell_type": "markdown",
   "metadata": {},
   "source": [
    "使用stack()把party变成二级行索引,注意所有的值都不能为nan，需要填充为0"
   ]
  },
  {
   "cell_type": "code",
   "execution_count": 53,
   "metadata": {},
   "outputs": [
    {
     "name": "stdout",
     "output_type": "stream",
     "text": [
      "\n",
      " 使用 stack() 后的结果：\n",
      "party     contb_receipt_dt\n",
      "Democrat  2011-01-01          0.0\n",
      "          2011-01-03          0.0\n",
      "          2011-01-04          0.0\n",
      "          2011-01-12          0.0\n",
      "          2011-01-13          0.0\n",
      "dtype: float64\n"
     ]
    }
   ],
   "source": [
    "# 使用 stack() 将 party 变成二级行索引\n",
    "daily_donations_stacked = daily_donations_pivot.stack()\n",
    "\n",
    "# 查看结果\n",
    "print(\"\\n 使用 stack() 后的结果：\")\n",
    "print(daily_donations_stacked.head())"
   ]
  },
  {
   "cell_type": "markdown",
   "metadata": {},
   "source": [
    "查看候选人姓名cand_nm和政治献金捐献者职业contbr_employer，以及捐献情况。能看出各个候选人主要的支持者分布情况  \n",
    "练习：groupy，sum()求和"
   ]
  },
  {
   "cell_type": "code",
   "execution_count": 54,
   "metadata": {},
   "outputs": [
    {
     "name": "stdout",
     "output_type": "stream",
     "text": [
      "\n",
      " 候选人姓名和捐献者职业的累计献金：\n",
      "              cand_nm                contbr_employer  contb_receipt_amt\n",
      "0  Bachmann, Michelle                              '             1996.0\n",
      "1  Bachmann, Michelle                      (RETIRED)              394.0\n",
      "2  Bachmann, Michelle                            ---              100.0\n",
      "3  Bachmann, Michelle                              0              100.0\n",
      "4  Bachmann, Michelle  1 SQUARED R ELEMENT CO., INC.             2500.0\n",
      "\n",
      " 每个候选人的主要支持者分布情况：\n",
      "              cand_nm                         contbr_employer  \\\n",
      "0  Bachmann, Michelle                   INFORMATION REQUESTED   \n",
      "1        Cain, Herman                   INFORMATION REQUESTED   \n",
      "2      Gingrich, Newt                                 RETIRED   \n",
      "3       Huntsman, Jon  INFORMATION REQUESTED PER BEST EFFORTS   \n",
      "4  Johnson, Gary Earl                                 RETIRED   \n",
      "\n",
      "   contb_receipt_amt  \n",
      "0          175203.89  \n",
      "1         3909226.59  \n",
      "2         2294897.21  \n",
      "3          378749.00  \n",
      "4           80308.96  \n"
     ]
    },
    {
     "name": "stderr",
     "output_type": "stream",
     "text": [
      "C:\\Users\\11322\\AppData\\Local\\Temp\\ipykernel_2136\\2993188326.py:15: DeprecationWarning: DataFrameGroupBy.apply operated on the grouping columns. This behavior is deprecated, and in a future version of pandas the grouping columns will be excluded from the operation. Either pass `include_groups=False` to exclude the groupings or explicitly select the grouping columns after groupby to silence this warning.\n",
      "  main_supporters = support_distribution.groupby('cand_nm').apply(lambda x: x.nlargest(1, 'contb_receipt_amt')).reset_index(drop=True)\n"
     ]
    }
   ],
   "source": [
    "# 查看候选人姓名cand_nm和政治献金捐献者职业contbr_employer，以及捐献情况\n",
    "# 练习：groupby，sum()求和\n",
    "\n",
    "# 按候选人姓名和捐献者职业分组，并求和\n",
    "support_distribution = usa.groupby(['cand_nm', 'contbr_employer'])['contb_receipt_amt'].sum().reset_index()\n",
    "\n",
    "# 查看结果\n",
    "print(\"\\n 候选人姓名和捐献者职业的累计献金：\")\n",
    "print(support_distribution.head())\n",
    "\n",
    "# 如果需要查看每个候选人的主要支持者分布情况，可以进一步处理\n",
    "# 例如，找出每个候选人捐赠者中捐赠金额最大的职业以及捐献额\n",
    "\n",
    "# 找出每个候选人的捐赠者中捐赠金额最大的职业以及捐献额\n",
    "main_supporters = support_distribution.groupby('cand_nm').apply(lambda x: x.nlargest(1, 'contb_receipt_amt')).reset_index(drop=True)\n",
    "\n",
    "# 查看结果\n",
    "print(\"\\n 每个候选人的主要支持者分布情况：\")\n",
    "print(main_supporters.head())\n"
   ]
  },
  {
   "cell_type": "markdown",
   "metadata": {},
   "source": [
    "查看老兵主要支持谁：DISABLED VETERAN  \n",
    "考察Series索引"
   ]
  },
  {
   "cell_type": "code",
   "execution_count": 55,
   "metadata": {},
   "outputs": [
    {
     "name": "stdout",
     "output_type": "stream",
     "text": [
      "\n",
      " 捐献者职业为 DISABLED VETERAN 的记录：\n",
      "          cmte_id    cand_id        cand_nm         contbr_nm contbr_city  \\\n",
      "260154  C00431445  P80003338  Obama, Barack      NOLAN, DIANA    SPRAKERS   \n",
      "260544  C00431445  P80003338  Obama, Barack      NOLAN, DIANA    SPRAKERS   \n",
      "264154  C00431445  P80003338  Obama, Barack      NOLAN, DIANA    SPRAKERS   \n",
      "388928  C00495820  P80000748      Paul, Ron  HARPER, RON GENE     OSCEOLA   \n",
      "389100  C00495820  P80000748      Paul, Ron  HARPER, RON GENE     OSCEOLA   \n",
      "\n",
      "       contbr_st contbr_zip   contbr_employer contbr_occupation  \\\n",
      "260154        NY      12166  DISABLED VETERAN  DISABLED VETERAN   \n",
      "260544        NY      12166  DISABLED VETERAN  DISABLED VETERAN   \n",
      "264154        NY      12166  DISABLED VETERAN  DISABLED VETERAN   \n",
      "388928        IA  502138366  DISABLED VETERAN           RETIRED   \n",
      "389100        IA  502138366  DISABLED VETERAN           RETIRED   \n",
      "\n",
      "        contb_receipt_amt contb_receipt_dt receipt_desc memo_cd memo_text  \\\n",
      "260154               50.0       2011-07-28          NaN     NaN       NaN   \n",
      "260544               50.0       2011-08-28          NaN     NaN       NaN   \n",
      "264154               50.0       2011-09-28          NaN     NaN       NaN   \n",
      "388928              147.5       2011-10-01          NaN     NaN       NaN   \n",
      "389100              100.0       2011-10-18          NaN     NaN       NaN   \n",
      "\n",
      "       form_tp  file_num       party contb_receipt_dt_converted  \n",
      "260154   SA17A    756218    Democrat                 2011-07-28  \n",
      "260544   SA17A    756218    Democrat                 2011-08-28  \n",
      "264154   SA17A    756218    Democrat                 2011-09-28  \n",
      "388928   SA17A    767168  Republican                 2011-10-01  \n",
      "389100   SA17A    767168  Republican                 2011-10-18  \n",
      "\n",
      " 每个候选人的累计献金（来自 DISABLED VETERAN）：\n",
      "cand_nm\n",
      "Obama, Barack    685.0\n",
      "Paul, Ron        395.0\n",
      "Name: contb_receipt_amt, dtype: float64\n",
      "\n",
      " 老兵主要支持的候选人是：Obama, Barack，累计献金金额为：685.0\n"
     ]
    }
   ],
   "source": [
    "# 查看老兵主要支持谁：DISABLED VETERAN  \n",
    "# 考察Series索引\n",
    "\n",
    "# 过滤出捐献者职业为 DISABLED VETERAN 的记录\n",
    "disabled_veteran_donations = usa[usa['contbr_employer'] == 'DISABLED VETERAN']\n",
    "\n",
    "# 查看结果\n",
    "print(\"\\n 捐献者职业为 DISABLED VETERAN 的记录：\")\n",
    "print(disabled_veteran_donations.head())\n",
    "\n",
    "# 按候选人姓名分组，并求和\n",
    "veteran_support_distribution = disabled_veteran_donations.groupby('cand_nm')['contb_receipt_amt'].sum()\n",
    "\n",
    "# 查看结果\n",
    "print(\"\\n 每个候选人的累计献金（来自 DISABLED VETERAN）：\")\n",
    "print(veteran_support_distribution)\n",
    "\n",
    "# 找出累计献金金额最大的候选人\n",
    "main_supporter_veteran = veteran_support_distribution.idxmax()\n",
    "main_supporter_veteran_amount = veteran_support_distribution.max()\n",
    "\n",
    "# 查看结果\n",
    "print(f\"\\n 老兵主要支持的候选人是：{main_supporter_veteran}，累计献金金额为：{main_supporter_veteran_amount}\")\n"
   ]
  },
  {
   "cell_type": "markdown",
   "metadata": {},
   "source": [
    "把索引变成列,Series.reset_index()"
   ]
  },
  {
   "cell_type": "code",
   "execution_count": 56,
   "metadata": {},
   "outputs": [
    {
     "name": "stdout",
     "output_type": "stream",
     "text": [
      "\n",
      " 使用 Series.reset_index() 后的结果：\n",
      "         cand_nm  contb_receipt_amt\n",
      "0  Obama, Barack              685.0\n",
      "1      Paul, Ron              395.0\n"
     ]
    }
   ],
   "source": [
    "# 使用 Series.reset_index() 将索引变成列\n",
    "veteran_support_distribution_reset = veteran_support_distribution.reset_index()\n",
    "\n",
    "# 查看结果\n",
    "print(\"\\n 使用 Series.reset_index() 后的结果：\")\n",
    "print(veteran_support_distribution_reset.head())"
   ]
  },
  {
   "cell_type": "markdown",
   "metadata": {},
   "source": [
    "找出各个候选人的捐赠者中，捐赠金额最大的人的职业以及捐献额  \n",
    "\n",
    "通过query(\"查询条件来查找捐献人职业\")"
   ]
  },
  {
   "cell_type": "code",
   "execution_count": 57,
   "metadata": {},
   "outputs": [
    {
     "name": "stdout",
     "output_type": "stream",
     "text": [
      "\n",
      " 每个候选人的捐赠者中，捐赠金额最大的记录：\n",
      "     cmte_id    cand_id             cand_nm              contbr_nm  \\\n",
      "0  C00497511  P20002978  Bachmann, Michelle         LIBERAL, NICOL   \n",
      "1  C00496067  P00003608        Cain, Herman              HILDE, AL   \n",
      "2  C00496497  P60003654      Gingrich, Newt  POPE, MARK C. MR. III   \n",
      "3  C00498444  P20003067       Huntsman, Jon       PARKIN, JENNIFER   \n",
      "4  C00495622  P20002671  Johnson, Gary Earl          LEONG, SANDRA   \n",
      "\n",
      "      contbr_city contbr_st contbr_zip        contbr_employer  \\\n",
      "0        BROOKLYN        NY  112265510       FREEDOM ALLIANCE   \n",
      "1         JACKSON        WY  830019347  INFORMATION REQUESTED   \n",
      "2         ATLANTA        GA  303051050                RETIRED   \n",
      "3  SALT LAKE CITY        UT  841082537              HOMEMAKER   \n",
      "4        NEW YORK        NY      10010          SELF-EMPLOYED   \n",
      "\n",
      "       contbr_occupation  contb_receipt_amt contb_receipt_dt  \\\n",
      "0      GOVERNMENT MEMBER             3022.0       2011-12-27   \n",
      "1  INFORMATION REQUESTED            10000.0       2011-10-25   \n",
      "2                RETIRED             5100.0       2011-07-20   \n",
      "3              HOMEMAKER             5000.0       2011-06-23   \n",
      "4          SELF-EMPLOYED             2500.0       2011-04-22   \n",
      "\n",
      "        receipt_desc memo_cd                        memo_text form_tp  \\\n",
      "0                NaN     NaN                              NaN   SA17A   \n",
      "1                NaN     NaN                              NaN   SA17A   \n",
      "2                NaN     NaN  REFUNDED $2600.00 ON 09/30/2011   SA17A   \n",
      "3  SEE REATTRIBUTION     NaN                SEE REATTRIBUTION   SA17A   \n",
      "4                NaN     NaN                              NaN   SA17A   \n",
      "\n",
      "   file_num        party contb_receipt_dt_converted  \n",
      "0    762366   Republican                 2011-12-27  \n",
      "1    763621   Republican                 2011-10-25  \n",
      "2    763368   Republican                 2011-07-20  \n",
      "3    748440   Republican                 2011-06-23  \n",
      "4    735266  Libertarian                 2011-04-22  \n",
      "\n",
      " 使用 Series.reset_index() 后的结果：\n",
      "     cmte_id    cand_id             cand_nm              contbr_nm  \\\n",
      "0  C00497511  P20002978  Bachmann, Michelle         LIBERAL, NICOL   \n",
      "1  C00496067  P00003608        Cain, Herman              HILDE, AL   \n",
      "2  C00496497  P60003654      Gingrich, Newt  POPE, MARK C. MR. III   \n",
      "3  C00498444  P20003067       Huntsman, Jon       PARKIN, JENNIFER   \n",
      "4  C00495622  P20002671  Johnson, Gary Earl          LEONG, SANDRA   \n",
      "\n",
      "      contbr_city contbr_st contbr_zip        contbr_employer  \\\n",
      "0        BROOKLYN        NY  112265510       FREEDOM ALLIANCE   \n",
      "1         JACKSON        WY  830019347  INFORMATION REQUESTED   \n",
      "2         ATLANTA        GA  303051050                RETIRED   \n",
      "3  SALT LAKE CITY        UT  841082537              HOMEMAKER   \n",
      "4        NEW YORK        NY      10010          SELF-EMPLOYED   \n",
      "\n",
      "       contbr_occupation  contb_receipt_amt contb_receipt_dt  \\\n",
      "0      GOVERNMENT MEMBER             3022.0       2011-12-27   \n",
      "1  INFORMATION REQUESTED            10000.0       2011-10-25   \n",
      "2                RETIRED             5100.0       2011-07-20   \n",
      "3              HOMEMAKER             5000.0       2011-06-23   \n",
      "4          SELF-EMPLOYED             2500.0       2011-04-22   \n",
      "\n",
      "        receipt_desc memo_cd                        memo_text form_tp  \\\n",
      "0                NaN     NaN                              NaN   SA17A   \n",
      "1                NaN     NaN                              NaN   SA17A   \n",
      "2                NaN     NaN  REFUNDED $2600.00 ON 09/30/2011   SA17A   \n",
      "3  SEE REATTRIBUTION     NaN                SEE REATTRIBUTION   SA17A   \n",
      "4                NaN     NaN                              NaN   SA17A   \n",
      "\n",
      "   file_num        party contb_receipt_dt_converted  \n",
      "0    762366   Republican                 2011-12-27  \n",
      "1    763621   Republican                 2011-10-25  \n",
      "2    763368   Republican                 2011-07-20  \n",
      "3    748440   Republican                 2011-06-23  \n",
      "4    735266  Libertarian                 2011-04-22  \n"
     ]
    },
    {
     "name": "stderr",
     "output_type": "stream",
     "text": [
      "C:\\Users\\11322\\AppData\\Local\\Temp\\ipykernel_2136\\33380860.py:5: DeprecationWarning: DataFrameGroupBy.apply operated on the grouping columns. This behavior is deprecated, and in a future version of pandas the grouping columns will be excluded from the operation. Either pass `include_groups=False` to exclude the groupings or explicitly select the grouping columns after groupby to silence this warning.\n",
      "  max_donations_per_candidate = usa.groupby('cand_nm').apply(lambda x: x.nlargest(1, 'contb_receipt_amt')).reset_index(drop=True)\n"
     ]
    }
   ],
   "source": [
    "# 找出各个候选人的捐赠者中，捐赠金额最大的人的职业以及捐献额  \n",
    "# 通过query(\"查询条件来查找捐献人职业\")\n",
    "\n",
    "# 按候选人姓名分组，并找到每个候选人捐赠金额最大的记录\n",
    "max_donations_per_candidate = usa.groupby('cand_nm').apply(lambda x: x.nlargest(1, 'contb_receipt_amt')).reset_index(drop=True)\n",
    "\n",
    "# 查看结果\n",
    "print(\"\\n 每个候选人的捐赠者中，捐赠金额最大的记录：\")\n",
    "print(max_donations_per_candidate.head())\n",
    "\n",
    "# 使用 Series.reset_index() 将索引变成列\n",
    "max_donations_reset = max_donations_per_candidate.reset_index(drop=True)\n",
    "\n",
    "# 查看结果\n",
    "print(\"\\n 使用 Series.reset_index() 后的结果：\")\n",
    "print(max_donations_reset.head())"
   ]
  }
 ],
 "metadata": {
  "kernelspec": {
   "display_name": "base",
   "language": "python",
   "name": "python3"
  },
  "language_info": {
   "codemirror_mode": {
    "name": "ipython",
    "version": 3
   },
   "file_extension": ".py",
   "mimetype": "text/x-python",
   "name": "python",
   "nbconvert_exporter": "python",
   "pygments_lexer": "ipython3",
   "version": "3.12.4"
  }
 },
 "nbformat": 4,
 "nbformat_minor": 1
}
